{
 "cells": [
  {
   "cell_type": "code",
   "execution_count": 7,
   "metadata": {},
   "outputs": [],
   "source": [
    "# Importing essential libraries\n",
    "import numpy as np\n",
    "import pandas as pd\n",
    "import pickle\n",
    "from sklearn.ensemble import RandomForestClassifier\n",
    "\n",
    "#Import the dataset\n",
    "df= pd.read_csv('diabetes_data.csv')\n",
    "df.head()\n",
    "\n",
    "#Changing Yes,Positive,Male to 1 and No,Negeative,Female to 0\n",
    "zeroValues = [\"Female\", \"Negative\", \"No\"]\n",
    "oneValues = [\"Male\", \"Positive\", \"Yes\"]\n",
    "\n",
    "\n",
    "for column in df.columns:\n",
    "    df[column] = df[column].replace(to_replace=[zeroValues], value=0)\n",
    "    df[column] = df[column].replace(to_replace=[oneValues], value=1)\n",
    " \n",
    "\n",
    "df = df.rename({\"class\": \"status\"}, axis = \"columns\")\n",
    "df.head()\n",
    "\n",
    "from sklearn.model_selection import train_test_split\n",
    "x = df.drop(columns='status')\n",
    "y = df['status']\n",
    "x_train, x_test, y_train, y_test = train_test_split(x, y, test_size=0.25, random_state=1)\n",
    "\n",
    "# Creating Random Forest Model\n",
    "rf = RandomForestClassifier(random_state=1)\n",
    "rf.fit(x_train, y_train)\n",
    "predict = rf.predict(x_test)\n",
    "\n",
    "\n",
    "# Creating a pickle file for the classifier\n",
    "filename = 'RFC_MODLE_v3.pkl'\n",
    "pickle.dump(rf, open(filename, 'wb'))"
   ]
  },
  {
   "cell_type": "code",
   "execution_count": null,
   "metadata": {},
   "outputs": [],
   "source": []
  }
 ],
 "metadata": {
  "kernelspec": {
   "display_name": "Python 3",
   "language": "python",
   "name": "python3"
  },
  "language_info": {
   "codemirror_mode": {
    "name": "ipython",
    "version": 3
   },
   "file_extension": ".py",
   "mimetype": "text/x-python",
   "name": "python",
   "nbconvert_exporter": "python",
   "pygments_lexer": "ipython3",
   "version": "3.7.6"
  }
 },
 "nbformat": 4,
 "nbformat_minor": 4
}
